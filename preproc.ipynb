{
 "cells": [
  {
   "cell_type": "markdown",
   "metadata": {},
   "source": [
    "find local image"
   ]
  },
  {
   "cell_type": "code",
   "execution_count": 56,
   "metadata": {},
   "outputs": [],
   "source": [
    "import os\n",
    "import numpy as np\n",
    "import matplotlib.pyplot as plt\n",
    "import tensorflow as tf\n",
    "from tensorflow.keras.preprocessing.image import array_to_img, img_to_array, load_img\n"
   ]
  },
  {
   "cell_type": "code",
   "execution_count": 57,
   "metadata": {},
   "outputs": [
    {
     "name": "stdout",
     "output_type": "stream",
     "text": [
      "Found 9 files belonging to 1 classes.\n"
     ]
    },
    {
     "data": {
      "text/plain": [
       "['ss_color_0009.png',\n",
       " 'ss_color_0007.png',\n",
       " 'ss_color_0001.png',\n",
       " 'ss_color_0006.png',\n",
       " 'ss_color_0002.png',\n",
       " 'ss_color_0005.png',\n",
       " 'ss_color_0004.png',\n",
       " 'ss_color_0003.png',\n",
       " 'ss_color_0008.png']"
      ]
     },
     "execution_count": 57,
     "metadata": {},
     "output_type": "execute_result"
    }
   ],
   "source": [
    "data = tf.keras.preprocessing.image_dataset_from_directory('./data')\n",
    "data = os.listdir('data/ss_color')\n",
    "data"
   ]
  },
  {
   "cell_type": "code",
   "execution_count": 58,
   "metadata": {},
   "outputs": [],
   "source": [
    "img = load_img('./data/ss_color/ss_color_0002.png')"
   ]
  },
  {
   "cell_type": "code",
   "execution_count": 59,
   "metadata": {},
   "outputs": [
    {
     "data": {
      "text/plain": [
       "(1024, 2048, 3)"
      ]
     },
     "execution_count": 59,
     "metadata": {},
     "output_type": "execute_result"
    }
   ],
   "source": [
    "img_shape = img_to_array(img)\n",
    "img_shape.shape"
   ]
  },
  {
   "cell_type": "code",
   "execution_count": 60,
   "metadata": {},
   "outputs": [],
   "source": [
    "def load_img(img):\n",
    "    load_img = load_img(img)\n",
    "    return load_img"
   ]
  },
  {
   "cell_type": "code",
   "execution_count": 61,
   "metadata": {},
   "outputs": [],
   "source": [
    "# def ask_size():\n",
    "#     height = input('Give the height you want ?')\n",
    "#     width = int(height) * 4\n",
    "#     return height, width"
   ]
  },
  {
   "cell_type": "code",
   "execution_count": 62,
   "metadata": {},
   "outputs": [],
   "source": [
    "# shape_size = ask_size()"
   ]
  },
  {
   "cell_type": "code",
   "execution_count": 63,
   "metadata": {},
   "outputs": [],
   "source": [
    "# shape_size"
   ]
  },
  {
   "cell_type": "code",
   "execution_count": 64,
   "metadata": {},
   "outputs": [],
   "source": [
    "def resize_image(load_img):\n",
    "    load_image_to_array = img_to_array(load_img)\n",
    "    img_standardization = tf.image.per_image_standardization(load_image_to_array)\n",
    "    img_resize = tf.image.resize(img_standardization, [128, 512], preserve_aspect_ratio=True)\n",
    "    return img_resize"
   ]
  },
  {
   "cell_type": "code",
   "execution_count": 65,
   "metadata": {},
   "outputs": [],
   "source": [
    "img_resize = resize_image(img)"
   ]
  },
  {
   "cell_type": "code",
   "execution_count": 66,
   "metadata": {},
   "outputs": [
    {
     "data": {
      "text/plain": [
       "<tf.Tensor: shape=(128, 256, 3), dtype=float32, numpy=\n",
       "array([[[-0.48048845, -0.48048845, -0.48048845],\n",
       "        [-0.48048845, -0.48048845, -0.48048845],\n",
       "        [-0.48048845, -0.48048845, -0.48048845],\n",
       "        ...,\n",
       "        [-0.48048845, -0.48048845, -0.48048845],\n",
       "        [-0.48048845, -0.48048845, -0.48048845],\n",
       "        [-0.48048845, -0.48048845, -0.48048845]],\n",
       "\n",
       "       [[-0.48048845, -0.48048845, -0.48048845],\n",
       "        [-0.48048845, -0.48048845, -0.48048845],\n",
       "        [-0.48048845, -0.48048845, -0.48048845],\n",
       "        ...,\n",
       "        [-0.48048845, -0.48048845, -0.48048845],\n",
       "        [-0.48048845, -0.48048845, -0.48048845],\n",
       "        [-0.48048845, -0.48048845, -0.48048845]],\n",
       "\n",
       "       [[-0.48048845, -0.48048845, -0.48048845],\n",
       "        [-0.48048845, -0.48048845, -0.48048845],\n",
       "        [-0.48048845, -0.48048845, -0.48048845],\n",
       "        ...,\n",
       "        [-0.48048845, -0.48048845, -0.48048845],\n",
       "        [-0.48048845, -0.48048845, -0.48048845],\n",
       "        [-0.48048845, -0.48048845, -0.48048845]],\n",
       "\n",
       "       ...,\n",
       "\n",
       "       [[ 0.6935776 , -0.60194355,  0.6935776 ],\n",
       "        [ 0.6935776 , -0.60194355,  0.6935776 ],\n",
       "        [ 0.6935776 , -0.60194355,  0.6935776 ],\n",
       "        ...,\n",
       "        [ 0.6935776 , -0.60194355,  0.6935776 ],\n",
       "        [ 0.6935776 , -0.60194355,  0.6935776 ],\n",
       "        [ 0.6935776 , -0.60194355,  0.6935776 ]],\n",
       "\n",
       "       [[ 0.6935776 , -0.60194355,  0.6935776 ],\n",
       "        [ 0.6935776 , -0.60194355,  0.6935776 ],\n",
       "        [ 0.6935776 , -0.60194355,  0.6935776 ],\n",
       "        ...,\n",
       "        [ 0.6935776 , -0.60194355,  0.6935776 ],\n",
       "        [ 0.6935776 , -0.60194355,  0.6935776 ],\n",
       "        [ 0.6935776 , -0.60194355,  0.6935776 ]],\n",
       "\n",
       "       [[ 0.6935776 , -0.60194355,  0.6935776 ],\n",
       "        [ 0.6935776 , -0.60194355,  0.6935776 ],\n",
       "        [ 0.6935776 , -0.60194355,  0.6935776 ],\n",
       "        ...,\n",
       "        [ 0.6935776 , -0.60194355,  0.6935776 ],\n",
       "        [ 0.6935776 , -0.60194355,  0.6935776 ],\n",
       "        [ 0.6935776 , -0.60194355,  0.6935776 ]]], dtype=float32)>"
      ]
     },
     "execution_count": 66,
     "metadata": {},
     "output_type": "execute_result"
    }
   ],
   "source": [
    "img_resize"
   ]
  },
  {
   "cell_type": "code",
   "execution_count": 67,
   "metadata": {},
   "outputs": [],
   "source": [
    "def display_img_resized(img_resize):\n",
    "    img_resized = tf.keras.utils.array_to_img(img_resize)\n",
    "    return img_resized\n"
   ]
  },
  {
   "cell_type": "code",
   "execution_count": 68,
   "metadata": {},
   "outputs": [
    {
     "data": {
      "image/jpeg": "[encoded data removed]",
      "image/png": "[encoded data removed]",
      "text/plain": [
       "<PIL.Image.Image image mode=RGB size=256x128>"
      ]
     },
     "execution_count": 68,
     "metadata": {},
     "output_type": "execute_result"
    }
   ],
   "source": [
    "display_img_resized(img_resize)"
   ]
  },
  {
   "cell_type": "code",
   "execution_count": null,
   "metadata": {},
   "outputs": [],
   "source": []
  }
 ],
 "metadata": {
  "kernelspec": {
   "display_name": "depth-planes-from-2d",
   "language": "python",
   "name": "python3"
  },
  "language_info": {
   "codemirror_mode": {
    "name": "ipython",
    "version": 3
   },
   "file_extension": ".py",
   "mimetype": "text/x-python",
   "name": "python",
   "nbconvert_exporter": "python",
   "pygments_lexer": "ipython3",
   "version": "3.10.6"
  }
 },
 "nbformat": 4,
 "nbformat_minor": 2
}
